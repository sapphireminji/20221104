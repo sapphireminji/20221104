{
  "nbformat": 4,
  "nbformat_minor": 0,
  "metadata": {
    "colab": {
      "provenance": [],
      "authorship_tag": "ABX9TyPrJR/Lr2aoLYiizvAk9Miw",
      "include_colab_link": true
    },
    "kernelspec": {
      "name": "python3",
      "display_name": "Python 3"
    },
    "language_info": {
      "name": "python"
    }
  },
  "cells": [
    {
      "cell_type": "markdown",
      "metadata": {
        "id": "view-in-github",
        "colab_type": "text"
      },
      "source": [
        "<a href=\"https://colab.research.google.com/github/sapphireminji/20221104/blob/main/Untitled0.ipynb\" target=\"_parent\"><img src=\"https://colab.research.google.com/assets/colab-badge.svg\" alt=\"Open In Colab\"/></a>"
      ]
    },
    {
      "cell_type": "markdown",
      "source": [
        "1. 왜 다음과 같은 수식이 오류를 발생시키는가? 올바르게 수정하라.\n"
      ],
      "metadata": {
        "id": "GoRgABUzdOaz"
      }
    },
    {
      "cell_type": "code",
      "execution_count": 1,
      "metadata": {
        "colab": {
          "base_uri": "https://localhost:8080/"
        },
        "id": "K6FtwBGFbQ7K",
        "outputId": "a3c51713-6f50-4be1-817f-b33dd7736a9a"
      },
      "outputs": [
        {
          "output_type": "stream",
          "name": "stdout",
          "text": [
            "나는 12 개의 사과를 먹었다.\n"
          ]
        }
      ],
      "source": [
        "print('나는', str(12),'개의 사과를 먹었다.')"
      ]
    },
    {
      "cell_type": "markdown",
      "source": [
        "2. 다음과 같은 수식을 계산하면 결과는 무엇인가?"
      ],
      "metadata": {
        "id": "EVjJkkW1dsud"
      }
    },
    {
      "cell_type": "code",
      "source": [
        "print(\"apple\"+\"grape\")\n",
        "print('apple'*3)"
      ],
      "metadata": {
        "colab": {
          "base_uri": "https://localhost:8080/"
        },
        "id": "FN9r8QyTceI6",
        "outputId": "73d43e65-afb3-45b8-9539-77a19da96076"
      },
      "execution_count": 5,
      "outputs": [
        {
          "output_type": "stream",
          "name": "stdout",
          "text": [
            "applegrape\n",
            "appleappleapple\n"
          ]
        }
      ]
    },
    {
      "cell_type": "markdown",
      "source": [
        "3. 다음과 같이 사용자가 입력한 문자열 중에서 처음 2글자와 마지막 2글지를 추출한 후에 이들을 합쳐서 출력해보자."
      ],
      "metadata": {
        "id": "wiVbWrKRdygF"
      }
    },
    {
      "cell_type": "code",
      "source": [
        "str = input(\"문자열을 입력하시오: \")\n",
        "s = str[0:2] + str[-2:]\n",
        "\n",
        "print(s)"
      ],
      "metadata": {
        "colab": {
          "base_uri": "https://localhost:8080/"
        },
        "id": "A1TpB93ecolb",
        "outputId": "ebfc5495-a618-4561-9b25-aec92147eb10"
      },
      "execution_count": 4,
      "outputs": [
        {
          "output_type": "stream",
          "name": "stdout",
          "text": [
            "문자열을 입력하시오: python\n",
            "pyon\n"
          ]
        }
      ]
    },
    {
      "cell_type": "markdown",
      "source": [
        "4. 다음과 같이 사용자가 입력한 문자열 뒤에 항상 \"하는 중\"를 붙이는 프로그램을 작성해보자."
      ],
      "metadata": {
        "id": "okKsRHEHd9lT"
      }
    },
    {
      "cell_type": "code",
      "source": [
        "s=input(\"문자열을 입력하시오: \")\n",
        "s += \"하는중\"\n",
        "print(s)"
      ],
      "metadata": {
        "colab": {
          "base_uri": "https://localhost:8080/"
        },
        "id": "b-FDEMQZeyHe",
        "outputId": "bb4a9b90-f199-40f2-a8f6-34d4ccc98fe2"
      },
      "execution_count": 9,
      "outputs": [
        {
          "output_type": "stream",
          "name": "stdout",
          "text": [
            "문자열을 입력하시오: 청소\n",
            "청소하는중\n"
          ]
        }
      ]
    },
    {
      "cell_type": "markdown",
      "source": [
        "5. 사용자가 입력한 기호 안에 문자열을 삽입하려면 어떻게 해야 하는가? 기호는 문자 2개로 이루어졌다고 가정한다."
      ],
      "metadata": {
        "id": "P90SJb9Ve8pv"
      }
    },
    {
      "cell_type": "code",
      "source": [
        "str=input(\"기호를 입력하시오: \")\n",
        "word=input(\"중간에 삽입할 문자열을 이력하시오: \")\n",
        "s = str[:1] + word + str[1:]\n",
        "\n",
        "print(s)"
      ],
      "metadata": {
        "colab": {
          "base_uri": "https://localhost:8080/"
        },
        "id": "dsFBwfK-eEOM",
        "outputId": "d6b24bcc-8747-4e4b-95bc-59631b7dd896"
      },
      "execution_count": 8,
      "outputs": [
        {
          "output_type": "stream",
          "name": "stdout",
          "text": [
            "기호를 입력하시오: []\n",
            "중간에 삽입할 문자열을 이력하시오: python\n",
            "[python]\n"
          ]
        }
      ]
    },
    {
      "cell_type": "markdown",
      "source": [
        "6. 4개의 숫자가 들어 있는 리스트가 있다. 리스트 안의 숫자들을 꺼내서 합계를 계산하여 출력하는 프로그램을 작성하라. 반복문은 사용하지 않는다. 리스트의 길이는 항상 4라고 가정한다."
      ],
      "metadata": {
        "id": "YonGoPimfIYB"
      }
    },
    {
      "cell_type": "code",
      "source": [
        "from os import linesep\n",
        "lista = [1,2,3,4]\n",
        "sum = 0 \n",
        "sum = lista[0] + lista[1] + lista [2] + lista [3]\n",
        "print(\"리스트 = \", lista)\n",
        "print(\"리스트 숫자들의 합 = \",sum)"
      ],
      "metadata": {
        "colab": {
          "base_uri": "https://localhost:8080/"
        },
        "id": "Hx1d6QKIfT51",
        "outputId": "0418daa0-f8b1-4bb8-fb60-f24bcab01962"
      },
      "execution_count": 11,
      "outputs": [
        {
          "output_type": "stream",
          "name": "stdout",
          "text": [
            "리스트 =  [1, 2, 3, 4]\n",
            "리스트 숫자들의 합 =  10\n"
          ]
        }
      ]
    },
    {
      "cell_type": "markdown",
      "source": [
        "7. 사용자가 입력하는 3가지 색상을 리스트에 저장하였다가 하나씩 꺼내서 그 색상으로 채워진 원을 그리는 프로그램을 작성해보자, 반복문은 사용하지 않는다. 채워진 원을 그리려면 다음과 같은 문장들을 사용한다.\n"
      ],
      "metadata": {
        "id": "6dqH5FUYfzn_"
      }
    },
    {
      "cell_type": "code",
      "source": [
        "import turtle\n",
        ">>> t = turtle.Turtle()\n",
        ">>> t.shape(\"turtle\")\n",
        ">>> \n",
        ">>> lista = []\n",
        ">>> color = input(\"색상 #1을 입력하시오: \")\n",
        "색상 #1을 입력하시오: yellow\n",
        ">>> lista.append(color)\n",
        ">>> color = input(\"색상 #2를 입력하시오: \")\n",
        "색상 #2를 입력하시오: red\n",
        ">>> lista.append(color)\n",
        ">>> color = input(\"색상 #3을 입력하시오: \")\n",
        "색상 #3을 입력하시오: blue\n",
        ">>> lista.append(color)\n",
        "\n",
        ">>> t.fillcolor(lista[0])\n",
        ">>> t.begin_fill()\n",
        ">>> t.circle(50)\n",
        "t,\n",
        ">>> t.end_fill()\n",
        ">>> \n",
        ">>> t.up()\n",
        ">>> t.goto(100,0)\n",
        ">>> t.down()\n",
        ">>> t.fillcolor(lista[1])\n",
        ">>> t.begin_fill()\n",
        ">>> t.circle(50)\n",
        ">>> t.end_fill()\n",
        ">>> \n",
        ">>> t.up()\n",
        ">>> t.goto(200,0)\n",
        ">>> t.down()\n",
        ">>> t.fillcolor(lista[2])\n",
        "\n",
        ">>> t.begin_fil()\n",
        ">>> t.circle(50)\n",
        ">>>t.end_fill()\n",
        ">>>t._screen.exitonclick()  #화면을 마우스로 클릭해야 종료되게 하는 부분\n"
      ],
      "metadata": {
        "id": "rktT92mNjLM9"
      },
      "execution_count": null,
      "outputs": []
    },
    {
      "cell_type": "markdown",
      "source": [
        "8. 사용자가 입력하는 3개의 좌표(x,y)를 리스트에 저장한다. 이들 좌표를 꺼내서 거북이를 이동하는 프로그램을 작성해보자."
      ],
      "metadata": {
        "id": "vu6LI9ffjsEG"
      }
    },
    {
      "cell_type": "markdown",
      "source": [
        "import turtle\n",
        ">>> t = turtle.Turtle()\n",
        ">>> t.shape(\"turtle\")\n",
        ">>> \n",
        ">>> lista = []\n",
        ">>> lista.append(int(input(\"x1: \")))\n",
        "x1: 0\n",
        ">>> lista.append(int(input(\"y1: \")))\n",
        "y1: 0\n",
        ">>> lista.append(int(input(\"x2: \")))\n",
        "x2: 100\n",
        ">>> lista.append(int(input(\"y2: \")))\n",
        "y2: 100\n",
        ">>> lista.append(int(input(x3: \")))\n",
        "\t\t       \n",
        "SyntaxError: invalid syntax\n",
        ">>> lista.append(int(input(\"x3: \")))\n",
        "x3: 200\n",
        ">>> lista.append(int(input(\"y3: \")))\n",
        "y3: 100\n",
        ">>> \n",
        ">>> t.goto(lista[0], lista[1])\n",
        ">>> t.goto(lista[2], lista[3])\n",
        ">>> t.goto(lista[4], lista[5])\n",
        ">>> t._screen.exitonclick()  #화면을 마우스로 클릭해야 종료되게 하는 부분"
      ],
      "metadata": {
        "id": "I50udhSVlCuQ"
      }
    }
  ]
}